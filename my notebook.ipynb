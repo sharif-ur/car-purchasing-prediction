{
 "cells": [
  {
   "cell_type": "code",
   "execution_count": 1,
   "id": "92d3c39e",
   "metadata": {},
   "outputs": [
    {
     "data": {
      "text/plain": [
       "40"
      ]
     },
     "execution_count": 1,
     "metadata": {},
     "output_type": "execute_result"
    }
   ],
   "source": [
    "4*10"
   ]
  },
  {
   "cell_type": "markdown",
   "id": "fd2896af",
   "metadata": {},
   "source": [
    "Hello World"
   ]
  },
  {
   "cell_type": "code",
   "execution_count": 2,
   "id": "46baf1f8",
   "metadata": {},
   "outputs": [],
   "source": [
    "x=5"
   ]
  },
  {
   "cell_type": "code",
   "execution_count": 3,
   "id": "8fb05139",
   "metadata": {},
   "outputs": [
    {
     "data": {
      "text/plain": [
       "5"
      ]
     },
     "execution_count": 3,
     "metadata": {},
     "output_type": "execute_result"
    }
   ],
   "source": [
    "x"
   ]
  },
  {
   "cell_type": "code",
   "execution_count": 4,
   "id": "93f9714a",
   "metadata": {},
   "outputs": [],
   "source": [
    "z=4345\n"
   ]
  },
  {
   "cell_type": "code",
   "execution_count": 5,
   "id": "56179b91",
   "metadata": {},
   "outputs": [
    {
     "data": {
      "text/plain": [
       "4350"
      ]
     },
     "execution_count": 5,
     "metadata": {},
     "output_type": "execute_result"
    }
   ],
   "source": [
    "x+z"
   ]
  },
  {
   "cell_type": "code",
   "execution_count": 6,
   "id": "a0c410ce",
   "metadata": {},
   "outputs": [],
   "source": [
    "s=x+z"
   ]
  },
  {
   "cell_type": "code",
   "execution_count": 7,
   "id": "9df8459f",
   "metadata": {},
   "outputs": [
    {
     "data": {
      "text/plain": [
       "4350"
      ]
     },
     "execution_count": 7,
     "metadata": {},
     "output_type": "execute_result"
    }
   ],
   "source": [
    "s"
   ]
  },
  {
   "cell_type": "code",
   "execution_count": null,
   "id": "6d69af2e",
   "metadata": {},
   "outputs": [],
   "source": []
  }
 ],
 "metadata": {
  "kernelspec": {
   "display_name": "Python 3 (ipykernel)",
   "language": "python",
   "name": "python3"
  },
  "language_info": {
   "codemirror_mode": {
    "name": "ipython",
    "version": 3
   },
   "file_extension": ".py",
   "mimetype": "text/x-python",
   "name": "python",
   "nbconvert_exporter": "python",
   "pygments_lexer": "ipython3",
   "version": "3.9.7"
  }
 },
 "nbformat": 4,
 "nbformat_minor": 5
}
